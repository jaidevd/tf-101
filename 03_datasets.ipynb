{
 "cells": [
  {
   "cell_type": "code",
   "execution_count": null,
   "metadata": {},
   "outputs": [],
   "source": [
    "import tensorflow as tf\n",
    "from sklearn.datasets import load_iris"
   ]
  },
  {
   "cell_type": "code",
   "execution_count": null,
   "metadata": {},
   "outputs": [],
   "source": [
    "data = load_iris()\n",
    "X = tf.constant(data['data'])\n",
    "dataset = tf.data.Dataset.from_tensors(X)"
   ]
  },
  {
   "cell_type": "code",
   "execution_count": null,
   "metadata": {},
   "outputs": [],
   "source": [
    "# dataset transformations - apply standard scaling"
   ]
  },
  {
   "cell_type": "code",
   "execution_count": null,
   "metadata": {},
   "outputs": [],
   "source": [
    "batches = dataset.batch(50)\n",
    "mean = batches.map(tf.reduce_mean)\n",
    "iterator = mean.make_one_shot_iterator()\n",
    "elem = iterator.get_next()\n",
    "\n",
    "with tf.Session() as sess:\n",
    "    print(sess.run(elem))"
   ]
  },
  {
   "cell_type": "code",
   "execution_count": null,
   "metadata": {},
   "outputs": [],
   "source": [
    "np.mean(data['data'])"
   ]
  },
  {
   "cell_type": "code",
   "execution_count": null,
   "metadata": {},
   "outputs": [],
   "source": [
    "# Columnwise mean?"
   ]
  },
  {
   "cell_type": "code",
   "execution_count": null,
   "metadata": {},
   "outputs": [],
   "source": [
    "from functools import partial\n",
    "colMean = partial(tf.reduce_mean, axis=0)"
   ]
  },
  {
   "cell_type": "code",
   "execution_count": null,
   "metadata": {},
   "outputs": [],
   "source": [
    "dataset = tf.data.Dataset.from_tensors(X)\n",
    "averaged = dataset.map(colMean)\n",
    "it = averaged.make_one_shot_iterator()\n",
    "elem = it.get_next()\n",
    "\n",
    "with tf.Session() as sess:\n",
    "    print(sess.run(elem))"
   ]
  },
  {
   "cell_type": "code",
   "execution_count": null,
   "metadata": {},
   "outputs": [],
   "source": [
    "# What went wrong?"
   ]
  },
  {
   "cell_type": "code",
   "execution_count": null,
   "metadata": {},
   "outputs": [],
   "source": [
    "colMean = partial(tf.reduce_mean, axis=1)\n",
    "dataset = tf.data.Dataset.from_tensors(tf.transpose(X))\n",
    "averaged = dataset.map(colMean)\n",
    "it = averaged.make_one_shot_iterator()\n",
    "elem = it.get_next()\n",
    "\n",
    "with tf.Session() as sess:\n",
    "    print(sess.run(elem))"
   ]
  },
  {
   "cell_type": "code",
   "execution_count": null,
   "metadata": {},
   "outputs": [],
   "source": [
    "np.mean(data['data'], axis=0)"
   ]
  },
  {
   "cell_type": "code",
   "execution_count": null,
   "metadata": {},
   "outputs": [],
   "source": [
    "# variance?"
   ]
  },
  {
   "cell_type": "code",
   "execution_count": null,
   "metadata": {},
   "outputs": [],
   "source": [
    "dataset = tf.data.Dataset.from_tensors(tf.transpose(X))\n",
    "variance = dataset.map(lambda x: tf.nn.moments(x, axes=[1])[1])\n",
    "it = variance.make_one_shot_iterator()\n",
    "elem = it.get_next()\n",
    "\n",
    "with tf.Session() as sess:\n",
    "    print(sess.run(elem))"
   ]
  },
  {
   "cell_type": "code",
   "execution_count": null,
   "metadata": {},
   "outputs": [],
   "source": [
    "np.var(data['data'], axis=0)"
   ]
  },
  {
   "cell_type": "code",
   "execution_count": null,
   "metadata": {},
   "outputs": [],
   "source": [
    "# Putting it all together"
   ]
  },
  {
   "cell_type": "code",
   "execution_count": null,
   "metadata": {},
   "outputs": [],
   "source": [
    "colMean = partial(tf.reduce_mean, axis=1)\n",
    "colStd = lambda x: tf.sqrt(tf.nn.moments(x, axes=[1])[1])\n",
    "\n",
    "dataset = tf.data.Dataset.from_tensors(tf.transpose(X))\n",
    "mean = dataset.map(colMean).make_one_shot_iterator().get_next()\n",
    "std = dataset.map(colStd).make_one_shot_iterator().get_next()\n",
    "\n",
    "centered = dataset.map(lambda x: x - tf.reshape(mean, (4, 1)))\n",
    "# scaled = centered.map(lambda x: x / tf.reshape(std, (4, 1)))\n",
    "\n",
    "it = centered.make_initializable_iterator()\n",
    "elem = it.get_next()\n",
    "\n",
    "with tf.Session() as sess:\n",
    "    sess.run(it.initializer, feed_dict={'max_value': 5})\n",
    "    print(sess.run(elem))"
   ]
  },
  {
   "cell_type": "code",
   "execution_count": null,
   "metadata": {},
   "outputs": [],
   "source": []
  }
 ],
 "metadata": {
  "kernelspec": {
   "display_name": "Python 3",
   "language": "python",
   "name": "python3"
  },
  "language_info": {
   "codemirror_mode": {
    "name": "ipython",
    "version": 3
   },
   "file_extension": ".py",
   "mimetype": "text/x-python",
   "name": "python",
   "nbconvert_exporter": "python",
   "pygments_lexer": "ipython3",
   "version": "3.6.2"
  }
 },
 "nbformat": 4,
 "nbformat_minor": 2
}
